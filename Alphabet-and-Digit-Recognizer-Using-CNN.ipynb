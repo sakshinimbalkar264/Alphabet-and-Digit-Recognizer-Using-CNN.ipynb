{
 "cells": [
  {
   "cell_type": "code",
   "execution_count": null,
   "id": "5b46445b",
   "metadata": {},
   "outputs": [],
   "source": [
    "# Importing all the required libraries.\n",
    "\n",
    "import numpy as np\n",
    "import pandas as pd"
   ]
  },
  {
   "cell_type": "code",
   "execution_count": null,
   "id": "e3176c8b",
   "metadata": {},
   "outputs": [],
   "source": [
    "# Reading the dataset files using pandas.\n",
    "\n",
    "train_data = pd.read_csv(\"train.csv\")"
   ]
  },
  {
   "cell_type": "code",
   "execution_count": null,
   "id": "cbd1e852",
   "metadata": {},
   "outputs": [],
   "source": [
    "train_data.shape"
   ]
  },
  {
   "cell_type": "code",
   "execution_count": null,
   "id": "a1c78a40",
   "metadata": {},
   "outputs": [],
   "source": [
    "train_data.head(5)"
   ]
  },
  {
   "cell_type": "code",
   "execution_count": null,
   "id": "c3441977",
   "metadata": {},
   "outputs": [],
   "source": [
    "train_data[\"label\"].value_counts()"
   ]
  },
  {
   "cell_type": "code",
   "execution_count": null,
   "id": "e3b0398d",
   "metadata": {},
   "outputs": [],
   "source": [
    "## Separating the X and Y variable\n",
    "\n",
    "y = train_data['label']\n",
    "\n",
    "## Dropping the variable 'label' from X variable \n",
    "\n",
    "x = train_data.drop('label',axis=1)"
   ]
  },
  {
   "cell_type": "code",
   "execution_count": null,
   "id": "a5f458ec",
   "metadata": {},
   "outputs": [],
   "source": [
    "x.shape, y.shape"
   ]
  },
  {
   "cell_type": "code",
   "execution_count": null,
   "id": "1005179a",
   "metadata": {},
   "outputs": [],
   "source": [
    "type(x)"
   ]
  },
  {
   "cell_type": "code",
   "execution_count": null,
   "id": "92142d91",
   "metadata": {},
   "outputs": [],
   "source": [
    "x = np.array(x)\n",
    "x = x.reshape(42000,28,28,1)"
   ]
  },
  {
   "cell_type": "code",
   "execution_count": null,
   "id": "0502be51",
   "metadata": {},
   "outputs": [],
   "source": [
    "x.shape"
   ]
  },
  {
   "cell_type": "code",
   "execution_count": null,
   "id": "af3db92e",
   "metadata": {},
   "outputs": [],
   "source": [
    "# Scaling the input data\n",
    "\n",
    "x = x/255   \n",
    "x.shape"
   ]
  },
  {
   "cell_type": "code",
   "execution_count": null,
   "id": "c146953c",
   "metadata": {},
   "outputs": [],
   "source": [
    "# Importing to_categorical library from tensorflow.\n",
    "\n",
    "from tensorflow.keras.utils import to_categorical"
   ]
  },
  {
   "cell_type": "code",
   "execution_count": null,
   "id": "bee941d1",
   "metadata": {},
   "outputs": [],
   "source": [
    "y = to_categorical(y,num_classes=10)\n",
    "y.shape"
   ]
  },
  {
   "cell_type": "code",
   "execution_count": null,
   "id": "79e18c1b",
   "metadata": {},
   "outputs": [],
   "source": [
    "# Importing libraries required to build a CNN model.\n",
    "\n",
    "from tensorflow.keras.models import Sequential\n",
    "from tensorflow.keras.layers import Dense, Conv2D, MaxPool2D, Flatten"
   ]
  },
  {
   "cell_type": "code",
   "execution_count": null,
   "id": "3ac4fde2",
   "metadata": {},
   "outputs": [],
   "source": [
    "# Building a CNN model.\n",
    "\n",
    "model = Sequential()\n",
    "model.add(Conv2D(16,(3,3),padding='same',activation='relu',input_shape=(28,28,1)))\n",
    "model.add(MaxPool2D())\n",
    "model.add(Conv2D(32,(3,3),padding='same',activation='relu'))\n",
    "model.add(MaxPool2D())\n",
    "model.add(Conv2D(64,(3,3),padding='same',activation='relu'))\n",
    "model.add(MaxPool2D())\n",
    "model.add(Flatten())\n",
    "model.add(Dense(10,activation='softmax'))"
   ]
  },
  {
   "cell_type": "code",
   "execution_count": null,
   "id": "8e085fba",
   "metadata": {},
   "outputs": [],
   "source": [
    "# Reports the strength of the relationship between the model and the dependent variable.\n",
    "\n",
    "model.summary()"
   ]
  },
  {
   "cell_type": "code",
   "execution_count": null,
   "id": "8f09d878",
   "metadata": {},
   "outputs": [],
   "source": [
    "# Defines the loss function, the optimizer and the metrics.\n",
    "\n",
    "model.compile(loss='categorical_crossentropy',metrics=['accuracy'])"
   ]
  },
  {
   "cell_type": "code",
   "execution_count": null,
   "id": "61681007",
   "metadata": {},
   "outputs": [],
   "source": [
    "# Training the model with the given inputs.\n",
    "\n",
    "model.fit(x,y,epochs=10,batch_size=32)"
   ]
  },
  {
   "cell_type": "code",
   "execution_count": null,
   "id": "d735f7bc",
   "metadata": {},
   "outputs": [],
   "source": [
    "# Importing libraries for displaying the image.\n",
    "\n",
    "import os\n",
    "import cv2\n"
   ]
  },
  {
   "cell_type": "code",
   "execution_count": null,
   "id": "4918cef0",
   "metadata": {},
   "outputs": [],
   "source": [
    "# Function to preprocessing the image\n",
    "\n",
    "def get_digit(path):\n",
    "    img = cv2.imread(path,0)\n",
    "    img = cv2.resize(img, (28,28)) /255\n",
    "    return model.predict(img.reshape(1,28,28,1)).argmax()"
   ]
  },
  {
   "cell_type": "code",
   "execution_count": null,
   "id": "7494c6be",
   "metadata": {},
   "outputs": [],
   "source": [
    "# Calling the above function.\n",
    "\n",
    "get_digit('img2.jpg')"
   ]
  },
  {
   "cell_type": "code",
   "execution_count": null,
   "id": "9806c0cb",
   "metadata": {},
   "outputs": [],
   "source": [
    "# Locating the dataset file.\n",
    "\n",
    "folder_location = '../Sakshi/Datasets/Digit Dataset/'"
   ]
  },
  {
   "cell_type": "code",
   "execution_count": null,
   "id": "a5edb6f1",
   "metadata": {},
   "outputs": [],
   "source": [
    "# Extracting files from the folder location.\n",
    "\n",
    "file_names = os.listdir(folder_location)"
   ]
  },
  {
   "cell_type": "code",
   "execution_count": null,
   "id": "cd86a916",
   "metadata": {},
   "outputs": [],
   "source": [
    "file_names\n",
    "for file in file_names:\n",
    "    print(folder_location+file)"
   ]
  },
  {
   "cell_type": "code",
   "execution_count": null,
   "id": "5f8c3f09",
   "metadata": {},
   "outputs": [],
   "source": [
    "for file in file_names:\n",
    "    digit = get_digit(folder_location+file)\n",
    "    print(file, '\\t-----',digit)"
   ]
  },
  {
   "cell_type": "code",
   "execution_count": null,
   "id": "b2bdc0fb",
   "metadata": {},
   "outputs": [],
   "source": []
  }
 ],
 "metadata": {
  "kernelspec": {
   "display_name": "Python 3 (ipykernel)",
   "language": "python",
   "name": "python3"
  },
  "language_info": {
   "codemirror_mode": {
    "name": "ipython",
    "version": 3
   },
   "file_extension": ".py",
   "mimetype": "text/x-python",
   "name": "python",
   "nbconvert_exporter": "python",
   "pygments_lexer": "ipython3",
   "version": "3.9.12"
  }
 },
 "nbformat": 4,
 "nbformat_minor": 5
}
